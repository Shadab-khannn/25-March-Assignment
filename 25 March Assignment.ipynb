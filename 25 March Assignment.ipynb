{
 "cells": [
  {
   "cell_type": "code",
   "execution_count": null,
   "id": "0c0e35e2-e2cb-42a0-a6a6-892b3a3bfb4d",
   "metadata": {},
   "outputs": [],
   "source": [
    "Q1. Load the flight price dataset and examine its dimensions. How many rows and columns does the\n",
    "dataset have?"
   ]
  },
  {
   "cell_type": "markdown",
   "id": "3b865bcf-4bfd-49d8-adac-46074b72718a",
   "metadata": {},
   "source": [
    "ANS -"
   ]
  },
  {
   "cell_type": "code",
   "execution_count": 23,
   "id": "124abdb8-981b-4c80-94cc-7c41a474f0b9",
   "metadata": {},
   "outputs": [],
   "source": [
    "import pandas as pd\n",
    "import seaborn as sns\n",
    "import numpy as np\n",
    "import matplotlib.pyplot as plt\n",
    "%matplotlib inline"
   ]
  },
  {
   "cell_type": "code",
   "execution_count": 24,
   "id": "b346eaa6-2c83-4a7c-bf1f-0b4cdf6f8ca5",
   "metadata": {},
   "outputs": [],
   "source": [
    "df = pd.read_excel('flight_price.xlsx')"
   ]
  },
  {
   "cell_type": "code",
   "execution_count": 25,
   "id": "f4690161-ab02-4477-92ca-b06fe91fbe5f",
   "metadata": {},
   "outputs": [
    {
     "data": {
      "text/html": [
       "<div>\n",
       "<style scoped>\n",
       "    .dataframe tbody tr th:only-of-type {\n",
       "        vertical-align: middle;\n",
       "    }\n",
       "\n",
       "    .dataframe tbody tr th {\n",
       "        vertical-align: top;\n",
       "    }\n",
       "\n",
       "    .dataframe thead th {\n",
       "        text-align: right;\n",
       "    }\n",
       "</style>\n",
       "<table border=\"1\" class=\"dataframe\">\n",
       "  <thead>\n",
       "    <tr style=\"text-align: right;\">\n",
       "      <th></th>\n",
       "      <th>Airline</th>\n",
       "      <th>Date_of_Journey</th>\n",
       "      <th>Source</th>\n",
       "      <th>Destination</th>\n",
       "      <th>Route</th>\n",
       "      <th>Dep_Time</th>\n",
       "      <th>Arrival_Time</th>\n",
       "      <th>Duration</th>\n",
       "      <th>Total_Stops</th>\n",
       "      <th>Additional_Info</th>\n",
       "      <th>Price</th>\n",
       "    </tr>\n",
       "  </thead>\n",
       "  <tbody>\n",
       "    <tr>\n",
       "      <th>0</th>\n",
       "      <td>IndiGo</td>\n",
       "      <td>24/03/2019</td>\n",
       "      <td>Banglore</td>\n",
       "      <td>New Delhi</td>\n",
       "      <td>BLR → DEL</td>\n",
       "      <td>22:20</td>\n",
       "      <td>01:10 22 Mar</td>\n",
       "      <td>2h 50m</td>\n",
       "      <td>non-stop</td>\n",
       "      <td>No info</td>\n",
       "      <td>3897</td>\n",
       "    </tr>\n",
       "    <tr>\n",
       "      <th>1</th>\n",
       "      <td>Air India</td>\n",
       "      <td>1/05/2019</td>\n",
       "      <td>Kolkata</td>\n",
       "      <td>Banglore</td>\n",
       "      <td>CCU → IXR → BBI → BLR</td>\n",
       "      <td>05:50</td>\n",
       "      <td>13:15</td>\n",
       "      <td>7h 25m</td>\n",
       "      <td>2 stops</td>\n",
       "      <td>No info</td>\n",
       "      <td>7662</td>\n",
       "    </tr>\n",
       "    <tr>\n",
       "      <th>2</th>\n",
       "      <td>Jet Airways</td>\n",
       "      <td>9/06/2019</td>\n",
       "      <td>Delhi</td>\n",
       "      <td>Cochin</td>\n",
       "      <td>DEL → LKO → BOM → COK</td>\n",
       "      <td>09:25</td>\n",
       "      <td>04:25 10 Jun</td>\n",
       "      <td>19h</td>\n",
       "      <td>2 stops</td>\n",
       "      <td>No info</td>\n",
       "      <td>13882</td>\n",
       "    </tr>\n",
       "    <tr>\n",
       "      <th>3</th>\n",
       "      <td>IndiGo</td>\n",
       "      <td>12/05/2019</td>\n",
       "      <td>Kolkata</td>\n",
       "      <td>Banglore</td>\n",
       "      <td>CCU → NAG → BLR</td>\n",
       "      <td>18:05</td>\n",
       "      <td>23:30</td>\n",
       "      <td>5h 25m</td>\n",
       "      <td>1 stop</td>\n",
       "      <td>No info</td>\n",
       "      <td>6218</td>\n",
       "    </tr>\n",
       "    <tr>\n",
       "      <th>4</th>\n",
       "      <td>IndiGo</td>\n",
       "      <td>01/03/2019</td>\n",
       "      <td>Banglore</td>\n",
       "      <td>New Delhi</td>\n",
       "      <td>BLR → NAG → DEL</td>\n",
       "      <td>16:50</td>\n",
       "      <td>21:35</td>\n",
       "      <td>4h 45m</td>\n",
       "      <td>1 stop</td>\n",
       "      <td>No info</td>\n",
       "      <td>13302</td>\n",
       "    </tr>\n",
       "  </tbody>\n",
       "</table>\n",
       "</div>"
      ],
      "text/plain": [
       "       Airline Date_of_Journey    Source Destination                  Route  \\\n",
       "0       IndiGo      24/03/2019  Banglore   New Delhi              BLR → DEL   \n",
       "1    Air India       1/05/2019   Kolkata    Banglore  CCU → IXR → BBI → BLR   \n",
       "2  Jet Airways       9/06/2019     Delhi      Cochin  DEL → LKO → BOM → COK   \n",
       "3       IndiGo      12/05/2019   Kolkata    Banglore        CCU → NAG → BLR   \n",
       "4       IndiGo      01/03/2019  Banglore   New Delhi        BLR → NAG → DEL   \n",
       "\n",
       "  Dep_Time  Arrival_Time Duration Total_Stops Additional_Info  Price  \n",
       "0    22:20  01:10 22 Mar   2h 50m    non-stop         No info   3897  \n",
       "1    05:50         13:15   7h 25m     2 stops         No info   7662  \n",
       "2    09:25  04:25 10 Jun      19h     2 stops         No info  13882  \n",
       "3    18:05         23:30   5h 25m      1 stop         No info   6218  \n",
       "4    16:50         21:35   4h 45m      1 stop         No info  13302  "
      ]
     },
     "execution_count": 25,
     "metadata": {},
     "output_type": "execute_result"
    }
   ],
   "source": [
    "df.head()"
   ]
  },
  {
   "cell_type": "code",
   "execution_count": 16,
   "id": "48504631-7a0d-4e4e-9577-5f349ccd1e00",
   "metadata": {},
   "outputs": [
    {
     "data": {
      "text/plain": [
       "(10683, 11)"
      ]
     },
     "execution_count": 16,
     "metadata": {},
     "output_type": "execute_result"
    }
   ],
   "source": [
    "df.shape"
   ]
  },
  {
   "cell_type": "code",
   "execution_count": null,
   "id": "0e311639-0054-4577-aefa-b96f29d20fc7",
   "metadata": {},
   "outputs": [],
   "source": []
  },
  {
   "cell_type": "code",
   "execution_count": null,
   "id": "8fbac2ab-f099-4c0c-9953-51aee492a26c",
   "metadata": {},
   "outputs": [],
   "source": [
    "Q2. What is the distribution of flight prices in the dataset? Create a histogram to visualize the\n",
    "distribution."
   ]
  },
  {
   "cell_type": "markdown",
   "id": "cbc9f0be-4ce3-4745-bfc0-07e07f039ae0",
   "metadata": {},
   "source": [
    "ANS -"
   ]
  },
  {
   "cell_type": "code",
   "execution_count": 19,
   "id": "26d085b8-09d5-4d05-af5c-d6e7b77dfe61",
   "metadata": {},
   "outputs": [
    {
     "data": {
      "image/png": "[encoded data removed]",
      "text/plain": [
       "<Figure size 640x480 with 1 Axes>"
      ]
     },
     "metadata": {},
     "output_type": "display_data"
    }
   ],
   "source": [
    "df = pd.read_excel('flight_price.xlsx')\n",
    "plt.hist(df['Price'], bins=20)\n",
    "plt.title('Distribution of Flight Prices')\n",
    "plt.show()"
   ]
  },
  {
   "cell_type": "code",
   "execution_count": null,
   "id": "9c7a7684-d07c-4346-996a-ec4a5b8bcfda",
   "metadata": {},
   "outputs": [],
   "source": []
  },
  {
   "cell_type": "code",
   "execution_count": null,
   "id": "08e47ebb-bbc6-4c9d-8376-40980900be86",
   "metadata": {},
   "outputs": [],
   "source": [
    "Q3. What is the range of prices in the dataset? What is the minimum and maximum price?"
   ]
  },
  {
   "cell_type": "markdown",
   "id": "61cf7c1b-22d3-4184-bd14-f4f44f1bc4bb",
   "metadata": {},
   "source": [
    "ANS -"
   ]
  },
  {
   "cell_type": "code",
   "execution_count": 21,
   "id": "58a8973f-6226-454d-a602-b85aa5696296",
   "metadata": {},
   "outputs": [
    {
     "data": {
      "text/html": [
       "<div>\n",
       "<style scoped>\n",
       "    .dataframe tbody tr th:only-of-type {\n",
       "        vertical-align: middle;\n",
       "    }\n",
       "\n",
       "    .dataframe tbody tr th {\n",
       "        vertical-align: top;\n",
       "    }\n",
       "\n",
       "    .dataframe thead th {\n",
       "        text-align: right;\n",
       "    }\n",
       "</style>\n",
       "<table border=\"1\" class=\"dataframe\">\n",
       "  <thead>\n",
       "    <tr style=\"text-align: right;\">\n",
       "      <th></th>\n",
       "      <th>Airline</th>\n",
       "      <th>Date_of_Journey</th>\n",
       "      <th>Source</th>\n",
       "      <th>Destination</th>\n",
       "      <th>Route</th>\n",
       "      <th>Dep_Time</th>\n",
       "      <th>Arrival_Time</th>\n",
       "      <th>Duration</th>\n",
       "      <th>Total_Stops</th>\n",
       "      <th>Additional_Info</th>\n",
       "      <th>Price</th>\n",
       "    </tr>\n",
       "  </thead>\n",
       "  <tbody>\n",
       "    <tr>\n",
       "      <th>0</th>\n",
       "      <td>IndiGo</td>\n",
       "      <td>24/03/2019</td>\n",
       "      <td>Banglore</td>\n",
       "      <td>New Delhi</td>\n",
       "      <td>BLR → DEL</td>\n",
       "      <td>22:20</td>\n",
       "      <td>01:10 22 Mar</td>\n",
       "      <td>2h 50m</td>\n",
       "      <td>non-stop</td>\n",
       "      <td>No info</td>\n",
       "      <td>3897</td>\n",
       "    </tr>\n",
       "    <tr>\n",
       "      <th>1</th>\n",
       "      <td>Air India</td>\n",
       "      <td>1/05/2019</td>\n",
       "      <td>Kolkata</td>\n",
       "      <td>Banglore</td>\n",
       "      <td>CCU → IXR → BBI → BLR</td>\n",
       "      <td>05:50</td>\n",
       "      <td>13:15</td>\n",
       "      <td>7h 25m</td>\n",
       "      <td>2 stops</td>\n",
       "      <td>No info</td>\n",
       "      <td>7662</td>\n",
       "    </tr>\n",
       "    <tr>\n",
       "      <th>2</th>\n",
       "      <td>Jet Airways</td>\n",
       "      <td>9/06/2019</td>\n",
       "      <td>Delhi</td>\n",
       "      <td>Cochin</td>\n",
       "      <td>DEL → LKO → BOM → COK</td>\n",
       "      <td>09:25</td>\n",
       "      <td>04:25 10 Jun</td>\n",
       "      <td>19h</td>\n",
       "      <td>2 stops</td>\n",
       "      <td>No info</td>\n",
       "      <td>13882</td>\n",
       "    </tr>\n",
       "    <tr>\n",
       "      <th>3</th>\n",
       "      <td>IndiGo</td>\n",
       "      <td>12/05/2019</td>\n",
       "      <td>Kolkata</td>\n",
       "      <td>Banglore</td>\n",
       "      <td>CCU → NAG → BLR</td>\n",
       "      <td>18:05</td>\n",
       "      <td>23:30</td>\n",
       "      <td>5h 25m</td>\n",
       "      <td>1 stop</td>\n",
       "      <td>No info</td>\n",
       "      <td>6218</td>\n",
       "    </tr>\n",
       "    <tr>\n",
       "      <th>4</th>\n",
       "      <td>IndiGo</td>\n",
       "      <td>01/03/2019</td>\n",
       "      <td>Banglore</td>\n",
       "      <td>New Delhi</td>\n",
       "      <td>BLR → NAG → DEL</td>\n",
       "      <td>16:50</td>\n",
       "      <td>21:35</td>\n",
       "      <td>4h 45m</td>\n",
       "      <td>1 stop</td>\n",
       "      <td>No info</td>\n",
       "      <td>13302</td>\n",
       "    </tr>\n",
       "  </tbody>\n",
       "</table>\n",
       "</div>"
      ],
      "text/plain": [
       "       Airline Date_of_Journey    Source Destination                  Route  \\\n",
       "0       IndiGo      24/03/2019  Banglore   New Delhi              BLR → DEL   \n",
       "1    Air India       1/05/2019   Kolkata    Banglore  CCU → IXR → BBI → BLR   \n",
       "2  Jet Airways       9/06/2019     Delhi      Cochin  DEL → LKO → BOM → COK   \n",
       "3       IndiGo      12/05/2019   Kolkata    Banglore        CCU → NAG → BLR   \n",
       "4       IndiGo      01/03/2019  Banglore   New Delhi        BLR → NAG → DEL   \n",
       "\n",
       "  Dep_Time  Arrival_Time Duration Total_Stops Additional_Info  Price  \n",
       "0    22:20  01:10 22 Mar   2h 50m    non-stop         No info   3897  \n",
       "1    05:50         13:15   7h 25m     2 stops         No info   7662  \n",
       "2    09:25  04:25 10 Jun      19h     2 stops         No info  13882  \n",
       "3    18:05         23:30   5h 25m      1 stop         No info   6218  \n",
       "4    16:50         21:35   4h 45m      1 stop         No info  13302  "
      ]
     },
     "execution_count": 21,
     "metadata": {},
     "output_type": "execute_result"
    }
   ],
   "source": [
    "df.head()"
   ]
  },
  {
   "cell_type": "code",
   "execution_count": 26,
   "id": "0f0a0822-3f29-4aca-8224-ffd51f40b2fd",
   "metadata": {},
   "outputs": [
    {
     "data": {
      "text/html": [
       "<div>\n",
       "<style scoped>\n",
       "    .dataframe tbody tr th:only-of-type {\n",
       "        vertical-align: middle;\n",
       "    }\n",
       "\n",
       "    .dataframe tbody tr th {\n",
       "        vertical-align: top;\n",
       "    }\n",
       "\n",
       "    .dataframe thead th {\n",
       "        text-align: right;\n",
       "    }\n",
       "</style>\n",
       "<table border=\"1\" class=\"dataframe\">\n",
       "  <thead>\n",
       "    <tr style=\"text-align: right;\">\n",
       "      <th></th>\n",
       "      <th>Price</th>\n",
       "    </tr>\n",
       "  </thead>\n",
       "  <tbody>\n",
       "    <tr>\n",
       "      <th>count</th>\n",
       "      <td>10683.000000</td>\n",
       "    </tr>\n",
       "    <tr>\n",
       "      <th>mean</th>\n",
       "      <td>9087.064121</td>\n",
       "    </tr>\n",
       "    <tr>\n",
       "      <th>std</th>\n",
       "      <td>4611.359167</td>\n",
       "    </tr>\n",
       "    <tr>\n",
       "      <th>min</th>\n",
       "      <td>1759.000000</td>\n",
       "    </tr>\n",
       "    <tr>\n",
       "      <th>25%</th>\n",
       "      <td>5277.000000</td>\n",
       "    </tr>\n",
       "    <tr>\n",
       "      <th>50%</th>\n",
       "      <td>8372.000000</td>\n",
       "    </tr>\n",
       "    <tr>\n",
       "      <th>75%</th>\n",
       "      <td>12373.000000</td>\n",
       "    </tr>\n",
       "    <tr>\n",
       "      <th>max</th>\n",
       "      <td>79512.000000</td>\n",
       "    </tr>\n",
       "  </tbody>\n",
       "</table>\n",
       "</div>"
      ],
      "text/plain": [
       "              Price\n",
       "count  10683.000000\n",
       "mean    9087.064121\n",
       "std     4611.359167\n",
       "min     1759.000000\n",
       "25%     5277.000000\n",
       "50%     8372.000000\n",
       "75%    12373.000000\n",
       "max    79512.000000"
      ]
     },
     "execution_count": 26,
     "metadata": {},
     "output_type": "execute_result"
    }
   ],
   "source": [
    "df.describe()"
   ]
  },
  {
   "cell_type": "code",
   "execution_count": null,
   "id": "ff4315df-f58c-44c2-8b3b-de4aac032d08",
   "metadata": {},
   "outputs": [],
   "source": []
  },
  {
   "cell_type": "code",
   "execution_count": null,
   "id": "b02d37c6-7756-4bb7-a14d-98fa954d3dd4",
   "metadata": {},
   "outputs": [],
   "source": [
    "Q4. How does the price of flights vary by airline? Create a boxplot to compare the prices of different\n",
    "airlines."
   ]
  },
  {
   "cell_type": "markdown",
   "id": "82943f13-1157-4d6f-ae2a-43867548794a",
   "metadata": {},
   "source": [
    "ANS -"
   ]
  },
  {
   "cell_type": "code",
   "execution_count": 26,
   "id": "bc899283-cb2a-41a6-85fc-1f15205c5da1",
   "metadata": {},
   "outputs": [
    {
     "data": {
      "image/png": "[encoded data removed]",
      "text/plain": [
       "<Figure size 640x480 with 1 Axes>"
      ]
     },
     "metadata": {},
     "output_type": "display_data"
    }
   ],
   "source": []
  },
  {
   "cell_type": "code",
   "execution_count": null,
   "id": "f02bd6e9-bb97-4349-a296-eaa4e3858b50",
   "metadata": {},
   "outputs": [],
   "source": []
  },
  {
   "cell_type": "code",
   "execution_count": null,
   "id": "595b96ef-cb2c-415b-a15d-4e2a807ac351",
   "metadata": {},
   "outputs": [],
   "source": [
    "Q5. Are there any outliers in the dataset? Identify any potential outliers using a boxplot and describe how\n",
    "they may impact your analysis."
   ]
  },
  {
   "cell_type": "markdown",
   "id": "b7845b44-ae3d-4f91-8d26-a1bd8edcddd2",
   "metadata": {},
   "source": [
    "ANS -"
   ]
  },
  {
   "cell_type": "code",
   "execution_count": null,
   "id": "1f799acc-b072-4b6e-a70f-9ab978d73497",
   "metadata": {},
   "outputs": [],
   "source": []
  },
  {
   "cell_type": "code",
   "execution_count": null,
   "id": "883b8add-b9aa-4dec-ae6d-0c2e23a51d54",
   "metadata": {},
   "outputs": [],
   "source": []
  },
  {
   "cell_type": "code",
   "execution_count": null,
   "id": "b0472758-b34c-4b26-bade-25e461deb8b1",
   "metadata": {},
   "outputs": [],
   "source": [
    "Q6. You are working for a travel agency, and your boss has asked you to analyze the Flight Price dataset\n",
    "to identify the peak travel season. What features would you analyze to identify the peak season, and how\n",
    "would you present your findings to your boss?"
   ]
  },
  {
   "cell_type": "markdown",
   "id": "dad6496a-f542-4024-9cf3-412b3a6b0cf9",
   "metadata": {},
   "source": [
    "ANS -"
   ]
  },
  {
   "cell_type": "code",
   "execution_count": null,
   "id": "1986c697-6682-4a5c-b7dc-48d2b70792f3",
   "metadata": {},
   "outputs": [],
   "source": [
    "To identify the peak travel season from the Flight Price dataset, you can analyze features such as historical ticket price data, ticket\n",
    "purchase date and departure date, season, holidays, supply (number of available airlines and flights), fare class, availability of seats,\n",
    "recent market demand and flight distance. \n",
    "\n",
    "You can present your findings in a report format with graphs and charts that show the trends in ticket prices over time. You can also include\n",
    "a summary of your findings and recommendations for your boss based on the data."
   ]
  },
  {
   "cell_type": "code",
   "execution_count": null,
   "id": "9297bc9a-021b-4728-aa8c-e31fea2def0c",
   "metadata": {},
   "outputs": [],
   "source": []
  },
  {
   "cell_type": "code",
   "execution_count": null,
   "id": "60402b29-7c43-4352-9dfa-4641e98c7a16",
   "metadata": {},
   "outputs": [],
   "source": [
    "Q7. You are a data analyst for a flight booking website, and you have been asked to analyze the Flight\n",
    "Price dataset to identify any trends in flight prices. What features would you analyze to identify these\n",
    "trends, and what visualizations would you use to present your findings to your team?"
   ]
  },
  {
   "cell_type": "markdown",
   "id": "6f29557a-ee6d-42b3-bc6f-c1eac461944c",
   "metadata": {},
   "source": [
    "ANS -"
   ]
  },
  {
   "cell_type": "code",
   "execution_count": null,
   "id": "f21cc5af-80ed-44f9-8e4d-fcf2a0ab2a5d",
   "metadata": {},
   "outputs": [],
   "source": [
    "To identify trends in flight prices, I would analyze the following features:.\n",
    "\n",
    "1.Date: I would analyze the flight prices over time to identify any seasonal trends.\n",
    "\n",
    "2.Departure and Arrival Cities: I would analyze the flight prices for different departure and arrival cities to identify any regional trends.\n",
    "\n",
    "3.Airline: I would analyze the flight prices for different airlines to identify any pricing trends.\n",
    "\n",
    "4.Flight Duration: I would analyze the flight prices for different flight durations to identify any pricing trends.\n",
    "\n",
    "To present my findings to my team, I would use the following visualizations:.\n",
    "\n",
    "Line Chart: To visualize the trend in flight prices over time.\n",
    "Bar Chart: To visualize the average flight prices for different departure and arrival cities, airlines, and flight durations."
   ]
  },
  {
   "cell_type": "code",
   "execution_count": null,
   "id": "64448b14-80cf-46e0-863c-60adfb5b7060",
   "metadata": {},
   "outputs": [],
   "source": []
  },
  {
   "cell_type": "code",
   "execution_count": null,
   "id": "fb1356d5-db75-4797-b362-f55e3ce13fe7",
   "metadata": {},
   "outputs": [],
   "source": [
    "Q8. You are a data scientist working for an airline company, and you have been asked to analyze the\n",
    "Flight Price dataset to identify the factors that affect flight prices. What features would you analyze to\n",
    "identify these factors, and how would you present your findings to the management team?"
   ]
  },
  {
   "cell_type": "markdown",
   "id": "5529b275-3788-439b-90e4-fada8a6ac7f8",
   "metadata": {},
   "source": [
    "ANS -"
   ]
  },
  {
   "cell_type": "code",
   "execution_count": null,
   "id": "4b30ae27-8d82-4f31-a1eb-4e7f99262264",
   "metadata": {},
   "outputs": [],
   "source": [
    "To identify the factors that affect flight prices, I would analyze the following features:\n",
    "\n",
    "1.Departure and Arrival Cities: The prices of flights can vary depending on the cities of departure and arrival. For example, flights to \n",
    "popular tourist destinations may be more expensive than flights to less popular destinations.\n",
    "\n",
    "2.Departure and Arrival Dates: The prices of flights can also vary depending on the dates of departure and arrival. For example, flights\n",
    "during peak travel seasons may be more expensive than flights during off-peak seasons.\n",
    "\n",
    "3.Airline: The prices of flights can also vary depending on the airline. Some airlines may offer cheaper flights than others.\n",
    "\n",
    "4.Flight Duration: The prices of flights can also vary depending on the duration of the flight. Longer flights may be more expensive than \n",
    "shorter flights.\n",
    "\n",
    "5.Number of Stops: The prices of flights can also vary depending on the number of stops. Flights with more stops may be cheaper than non-stop \n",
    "flights.\n",
    "\n",
    "To present my findings to the management team, I would create a report that includes visualizations such as graphs and charts to help them \n",
    "understand the data better. I would also provide a summary of my findings and recommendations based on my analysis."
   ]
  },
  {
   "cell_type": "code",
   "execution_count": null,
   "id": "1adb74d9-6513-4c38-94b3-3a7773db05f5",
   "metadata": {},
   "outputs": [],
   "source": []
  },
  {
   "cell_type": "markdown",
   "id": "832c4abf-5cb4-4e97-82a1-29f5d29f6369",
   "metadata": {},
   "source": [
    "##Google Playstore:"
   ]
  },
  {
   "cell_type": "code",
   "execution_count": null,
   "id": "7c5129f7-5bbe-432b-914d-428aca84bdaf",
   "metadata": {},
   "outputs": [],
   "source": [
    "Q9. Load the Google Playstore dataset and examine its dimensions. How many rows and columns does\n",
    "the dataset have?"
   ]
  },
  {
   "cell_type": "markdown",
   "id": "672ff851-ab28-47fd-8a25-f39d4fdac125",
   "metadata": {},
   "source": [
    "ANS -"
   ]
  },
  {
   "cell_type": "code",
   "execution_count": 40,
   "id": "a91048a8-4ba2-4ee7-b22c-beb8f719558b",
   "metadata": {},
   "outputs": [],
   "source": [
    "import pandas as pd\n",
    "import numpy as np\n",
    "import seaborn as sns\n",
    "import matplotlib.pyplot as plt\n",
    "%matplotlib inline"
   ]
  },
  {
   "cell_type": "code",
   "execution_count": 41,
   "id": "8aa57892-5337-4f9f-99e7-82d55ca6f26f",
   "metadata": {},
   "outputs": [
    {
     "data": {
      "text/html": [
       "<div>\n",
       "<style scoped>\n",
       "    .dataframe tbody tr th:only-of-type {\n",
       "        vertical-align: middle;\n",
       "    }\n",
       "\n",
       "    .dataframe tbody tr th {\n",
       "        vertical-align: top;\n",
       "    }\n",
       "\n",
       "    .dataframe thead th {\n",
       "        text-align: right;\n",
       "    }\n",
       "</style>\n",
       "<table border=\"1\" class=\"dataframe\">\n",
       "  <thead>\n",
       "    <tr style=\"text-align: right;\">\n",
       "      <th></th>\n",
       "      <th>App</th>\n",
       "      <th>Category</th>\n",
       "      <th>Rating</th>\n",
       "      <th>Reviews</th>\n",
       "      <th>Size</th>\n",
       "      <th>Installs</th>\n",
       "      <th>Type</th>\n",
       "      <th>Price</th>\n",
       "      <th>Content Rating</th>\n",
       "      <th>Genres</th>\n",
       "      <th>Last Updated</th>\n",
       "      <th>Current Ver</th>\n",
       "      <th>Android Ver</th>\n",
       "    </tr>\n",
       "  </thead>\n",
       "  <tbody>\n",
       "    <tr>\n",
       "      <th>0</th>\n",
       "      <td>Photo Editor &amp; Candy Camera &amp; Grid &amp; ScrapBook</td>\n",
       "      <td>ART_AND_DESIGN</td>\n",
       "      <td>4.1</td>\n",
       "      <td>159</td>\n",
       "      <td>19M</td>\n",
       "      <td>10,000+</td>\n",
       "      <td>Free</td>\n",
       "      <td>0</td>\n",
       "      <td>Everyone</td>\n",
       "      <td>Art &amp; Design</td>\n",
       "      <td>January 7, 2018</td>\n",
       "      <td>1.0.0</td>\n",
       "      <td>4.0.3 and up</td>\n",
       "    </tr>\n",
       "    <tr>\n",
       "      <th>1</th>\n",
       "      <td>Coloring book moana</td>\n",
       "      <td>ART_AND_DESIGN</td>\n",
       "      <td>3.9</td>\n",
       "      <td>967</td>\n",
       "      <td>14M</td>\n",
       "      <td>500,000+</td>\n",
       "      <td>Free</td>\n",
       "      <td>0</td>\n",
       "      <td>Everyone</td>\n",
       "      <td>Art &amp; Design;Pretend Play</td>\n",
       "      <td>January 15, 2018</td>\n",
       "      <td>2.0.0</td>\n",
       "      <td>4.0.3 and up</td>\n",
       "    </tr>\n",
       "    <tr>\n",
       "      <th>2</th>\n",
       "      <td>U Launcher Lite – FREE Live Cool Themes, Hide ...</td>\n",
       "      <td>ART_AND_DESIGN</td>\n",
       "      <td>4.7</td>\n",
       "      <td>87510</td>\n",
       "      <td>8.7M</td>\n",
       "      <td>5,000,000+</td>\n",
       "      <td>Free</td>\n",
       "      <td>0</td>\n",
       "      <td>Everyone</td>\n",
       "      <td>Art &amp; Design</td>\n",
       "      <td>August 1, 2018</td>\n",
       "      <td>1.2.4</td>\n",
       "      <td>4.0.3 and up</td>\n",
       "    </tr>\n",
       "    <tr>\n",
       "      <th>3</th>\n",
       "      <td>Sketch - Draw &amp; Paint</td>\n",
       "      <td>ART_AND_DESIGN</td>\n",
       "      <td>4.5</td>\n",
       "      <td>215644</td>\n",
       "      <td>25M</td>\n",
       "      <td>50,000,000+</td>\n",
       "      <td>Free</td>\n",
       "      <td>0</td>\n",
       "      <td>Teen</td>\n",
       "      <td>Art &amp; Design</td>\n",
       "      <td>June 8, 2018</td>\n",
       "      <td>Varies with device</td>\n",
       "      <td>4.2 and up</td>\n",
       "    </tr>\n",
       "    <tr>\n",
       "      <th>4</th>\n",
       "      <td>Pixel Draw - Number Art Coloring Book</td>\n",
       "      <td>ART_AND_DESIGN</td>\n",
       "      <td>4.3</td>\n",
       "      <td>967</td>\n",
       "      <td>2.8M</td>\n",
       "      <td>100,000+</td>\n",
       "      <td>Free</td>\n",
       "      <td>0</td>\n",
       "      <td>Everyone</td>\n",
       "      <td>Art &amp; Design;Creativity</td>\n",
       "      <td>June 20, 2018</td>\n",
       "      <td>1.1</td>\n",
       "      <td>4.4 and up</td>\n",
       "    </tr>\n",
       "  </tbody>\n",
       "</table>\n",
       "</div>"
      ],
      "text/plain": [
       "                                                 App        Category  Rating  \\\n",
       "0     Photo Editor & Candy Camera & Grid & ScrapBook  ART_AND_DESIGN     4.1   \n",
       "1                                Coloring book moana  ART_AND_DESIGN     3.9   \n",
       "2  U Launcher Lite – FREE Live Cool Themes, Hide ...  ART_AND_DESIGN     4.7   \n",
       "3                              Sketch - Draw & Paint  ART_AND_DESIGN     4.5   \n",
       "4              Pixel Draw - Number Art Coloring Book  ART_AND_DESIGN     4.3   \n",
       "\n",
       "  Reviews  Size     Installs  Type Price Content Rating  \\\n",
       "0     159   19M      10,000+  Free     0       Everyone   \n",
       "1     967   14M     500,000+  Free     0       Everyone   \n",
       "2   87510  8.7M   5,000,000+  Free     0       Everyone   \n",
       "3  215644   25M  50,000,000+  Free     0           Teen   \n",
       "4     967  2.8M     100,000+  Free     0       Everyone   \n",
       "\n",
       "                      Genres      Last Updated         Current Ver  \\\n",
       "0               Art & Design   January 7, 2018               1.0.0   \n",
       "1  Art & Design;Pretend Play  January 15, 2018               2.0.0   \n",
       "2               Art & Design    August 1, 2018               1.2.4   \n",
       "3               Art & Design      June 8, 2018  Varies with device   \n",
       "4    Art & Design;Creativity     June 20, 2018                 1.1   \n",
       "\n",
       "    Android Ver  \n",
       "0  4.0.3 and up  \n",
       "1  4.0.3 and up  \n",
       "2  4.0.3 and up  \n",
       "3    4.2 and up  \n",
       "4    4.4 and up  "
      ]
     },
     "execution_count": 41,
     "metadata": {},
     "output_type": "execute_result"
    }
   ],
   "source": [
    "df= pd.read_csv('https://raw.githubusercontent.com/krishnaik06/playstore-Dataset/main/googleplaystore.csv')\n",
    "df.head()"
   ]
  },
  {
   "cell_type": "code",
   "execution_count": 5,
   "id": "accf12f7-220d-4263-97b8-458e7a9ae06d",
   "metadata": {},
   "outputs": [
    {
     "data": {
      "text/plain": [
       "(10841, 13)"
      ]
     },
     "execution_count": 5,
     "metadata": {},
     "output_type": "execute_result"
    }
   ],
   "source": [
    "df.shape"
   ]
  },
  {
   "cell_type": "code",
   "execution_count": null,
   "id": "35c6c574-ad35-4ca4-bcd7-5125db50be66",
   "metadata": {},
   "outputs": [],
   "source": []
  },
  {
   "cell_type": "code",
   "execution_count": 6,
   "id": "bbacbfd5-3022-49e6-aa29-6b835957441e",
   "metadata": {},
   "outputs": [
    {
     "name": "stdout",
     "output_type": "stream",
     "text": [
      "<class 'pandas.core.frame.DataFrame'>\n",
      "RangeIndex: 10841 entries, 0 to 10840\n",
      "Data columns (total 13 columns):\n",
      " #   Column          Non-Null Count  Dtype  \n",
      "---  ------          --------------  -----  \n",
      " 0   App             10841 non-null  object \n",
      " 1   Category        10841 non-null  object \n",
      " 2   Rating          9367 non-null   float64\n",
      " 3   Reviews         10841 non-null  object \n",
      " 4   Size            10841 non-null  object \n",
      " 5   Installs        10841 non-null  object \n",
      " 6   Type            10840 non-null  object \n",
      " 7   Price           10841 non-null  object \n",
      " 8   Content Rating  10840 non-null  object \n",
      " 9   Genres          10841 non-null  object \n",
      " 10  Last Updated    10841 non-null  object \n",
      " 11  Current Ver     10833 non-null  object \n",
      " 12  Android Ver     10838 non-null  object \n",
      "dtypes: float64(1), object(12)\n",
      "memory usage: 1.1+ MB\n"
     ]
    }
   ],
   "source": [
    "df.info()"
   ]
  },
  {
   "cell_type": "code",
   "execution_count": null,
   "id": "c34d1982-c445-4575-affe-a3787b1a7c94",
   "metadata": {},
   "outputs": [],
   "source": []
  },
  {
   "cell_type": "code",
   "execution_count": null,
   "id": "7ae1121d-e30f-4feb-82d2-fd7f812f89ab",
   "metadata": {},
   "outputs": [],
   "source": [
    "Q10. How does the rating of apps vary by category? Create a boxplot to compare the ratings of different\n",
    "app categories."
   ]
  },
  {
   "cell_type": "markdown",
   "id": "9fc80f17-2751-48ba-9bfc-19ee7f2ee03f",
   "metadata": {},
   "source": [
    "ANS -"
   ]
  },
  {
   "cell_type": "code",
   "execution_count": null,
   "id": "d5aa223c-3bf1-497f-888a-f3829a8f04c1",
   "metadata": {},
   "outputs": [],
   "source": []
  },
  {
   "cell_type": "code",
   "execution_count": null,
   "id": "cfb05bf2-6c1d-48f5-9313-1aca88b0e5c7",
   "metadata": {},
   "outputs": [],
   "source": [
    "Q11. Are there any missing values in the dataset? Identify any missing values and describe how they may\n",
    "impact your analysis."
   ]
  },
  {
   "cell_type": "markdown",
   "id": "c7ab0e7f-ea92-46c6-867a-bbb90ec8ae20",
   "metadata": {},
   "source": [
    "ANS-"
   ]
  },
  {
   "cell_type": "code",
   "execution_count": 20,
   "id": "42f2d469-d102-470e-83d0-f04a5f5326e5",
   "metadata": {},
   "outputs": [
    {
     "data": {
      "text/plain": [
       "App                  0\n",
       "Category             0\n",
       "Rating            1474\n",
       "Reviews              0\n",
       "Size                 0\n",
       "Installs             0\n",
       "Type                 1\n",
       "Price                0\n",
       "Content Rating       1\n",
       "Genres               0\n",
       "Last Updated         0\n",
       "Current Ver          8\n",
       "Android Ver          3\n",
       "dtype: int64"
      ]
     },
     "execution_count": 20,
     "metadata": {},
     "output_type": "execute_result"
    }
   ],
   "source": [
    "df.isnull().sum()"
   ]
  },
  {
   "cell_type": "code",
   "execution_count": null,
   "id": "55292afd-d3d1-42c0-b456-e0ee10e62b1a",
   "metadata": {},
   "outputs": [],
   "source": [
    "     Missing values in a dataset can impact the performance of the model by creating a bias in the dataset. This bias can create a lack of \n",
    "relatability and trustworthiness in the dataset. The loss in values might contain crucial insights or information for model development.\n",
    "Missing values in datasets can cause complications in data handling and analysis, loss of information and efficiency, and can produce biased \n",
    "results. You can drop the data with missing values or impute them with mean, median, or most frequently occurring values or by other \n",
    "statistical methods."
   ]
  },
  {
   "cell_type": "code",
   "execution_count": null,
   "id": "c006cf37-f9ff-4be0-8a76-7afa2caff4d2",
   "metadata": {},
   "outputs": [],
   "source": []
  },
  {
   "cell_type": "code",
   "execution_count": null,
   "id": "857f27b9-9edc-4e70-bc58-59067297cf72",
   "metadata": {},
   "outputs": [],
   "source": [
    "Q12. What is the relationship between the size of an app and its rating? Create a scatter plot to visualize\n",
    "the relationship."
   ]
  },
  {
   "cell_type": "markdown",
   "id": "586421a1-f7c9-4f43-8c93-6f0da8a9ecc5",
   "metadata": {},
   "source": [
    "ANS -"
   ]
  },
  {
   "cell_type": "code",
   "execution_count": null,
   "id": "31ba34c4-14c0-4c99-ad41-73885d682541",
   "metadata": {},
   "outputs": [],
   "source": []
  },
  {
   "cell_type": "code",
   "execution_count": null,
   "id": "855ff5f8-0fa9-427a-b938-23ecd53e5e88",
   "metadata": {},
   "outputs": [],
   "source": []
  },
  {
   "cell_type": "code",
   "execution_count": null,
   "id": "5ad4da1e-5ffc-4079-9c88-8fbdc739f50e",
   "metadata": {},
   "outputs": [],
   "source": [
    "Q13. How does the type of app affect its price? Create a bar chart to compare average prices by app type."
   ]
  },
  {
   "cell_type": "markdown",
   "id": "a36eb380-7aca-4c70-b2ed-1a8a9a900f81",
   "metadata": {},
   "source": [
    "ANS -"
   ]
  },
  {
   "cell_type": "code",
   "execution_count": 69,
   "id": "c3ff16e2-8945-40d4-bbb3-ec7784a46cd0",
   "metadata": {},
   "outputs": [
    {
     "data": {
      "text/plain": [
       "<AxesSubplot: ylabel='Count'>"
      ]
     },
     "execution_count": 69,
     "metadata": {},
     "output_type": "execute_result"
    },
    {
     "data": {
      "image/png": "[encoded data removed]",
      "text/plain": [
       "<Figure size 1500x600 with 1 Axes>"
      ]
     },
     "metadata": {},
     "output_type": "display_data"
    }
   ],
   "source": [
    "plt.figure(figsize=(15,6))\n",
    "sns.barplot(x=App.index[:10], y ='Count',data = App[:10],palette='hls')"
   ]
  },
  {
   "cell_type": "code",
   "execution_count": null,
   "id": "0416197e-8c2c-4546-bb03-eb189836610c",
   "metadata": {},
   "outputs": [],
   "source": []
  },
  {
   "cell_type": "code",
   "execution_count": null,
   "id": "faed305a-a55a-4096-970f-d4ee2118c0ad",
   "metadata": {},
   "outputs": [],
   "source": [
    "Q14. What are the top 10 most popular apps in the dataset? Create a frequency table to identify the apps\n",
    "with the highest number of installs."
   ]
  },
  {
   "cell_type": "markdown",
   "id": "7137e603-1a5e-4175-8476-3e6a548d9dfc",
   "metadata": {},
   "source": [
    "ANS-"
   ]
  },
  {
   "cell_type": "code",
   "execution_count": 60,
   "id": "5615d0a7-82ea-4f04-8710-a71d16a27ae8",
   "metadata": {},
   "outputs": [],
   "source": [
    "App = pd.DataFrame(df['App'].value_counts())        #Dataframe of apps on the basis of categ\n",
    "App.rename(columns = {'App':'Count'},inplace=True)"
   ]
  },
  {
   "cell_type": "code",
   "execution_count": 61,
   "id": "9442d647-3d26-4c26-987c-43328ad25e6d",
   "metadata": {},
   "outputs": [
    {
     "data": {
      "text/html": [
       "<div>\n",
       "<style scoped>\n",
       "    .dataframe tbody tr th:only-of-type {\n",
       "        vertical-align: middle;\n",
       "    }\n",
       "\n",
       "    .dataframe tbody tr th {\n",
       "        vertical-align: top;\n",
       "    }\n",
       "\n",
       "    .dataframe thead th {\n",
       "        text-align: right;\n",
       "    }\n",
       "</style>\n",
       "<table border=\"1\" class=\"dataframe\">\n",
       "  <thead>\n",
       "    <tr style=\"text-align: right;\">\n",
       "      <th></th>\n",
       "      <th>Count</th>\n",
       "    </tr>\n",
       "  </thead>\n",
       "  <tbody>\n",
       "    <tr>\n",
       "      <th>ROBLOX</th>\n",
       "      <td>9</td>\n",
       "    </tr>\n",
       "    <tr>\n",
       "      <th>CBS Sports App - Scores, News, Stats &amp; Watch Live</th>\n",
       "      <td>8</td>\n",
       "    </tr>\n",
       "    <tr>\n",
       "      <th>ESPN</th>\n",
       "      <td>7</td>\n",
       "    </tr>\n",
       "    <tr>\n",
       "      <th>Duolingo: Learn Languages Free</th>\n",
       "      <td>7</td>\n",
       "    </tr>\n",
       "    <tr>\n",
       "      <th>Candy Crush Saga</th>\n",
       "      <td>7</td>\n",
       "    </tr>\n",
       "    <tr>\n",
       "      <th>...</th>\n",
       "      <td>...</td>\n",
       "    </tr>\n",
       "    <tr>\n",
       "      <th>Meet U - Get Friends for Snapchat, Kik &amp; Instagram</th>\n",
       "      <td>1</td>\n",
       "    </tr>\n",
       "    <tr>\n",
       "      <th>U-Report</th>\n",
       "      <td>1</td>\n",
       "    </tr>\n",
       "    <tr>\n",
       "      <th>U of I Community Credit Union</th>\n",
       "      <td>1</td>\n",
       "    </tr>\n",
       "    <tr>\n",
       "      <th>Waiting For U Launcher Theme</th>\n",
       "      <td>1</td>\n",
       "    </tr>\n",
       "    <tr>\n",
       "      <th>iHoroscope - 2018 Daily Horoscope &amp; Astrology</th>\n",
       "      <td>1</td>\n",
       "    </tr>\n",
       "  </tbody>\n",
       "</table>\n",
       "<p>9660 rows × 1 columns</p>\n",
       "</div>"
      ],
      "text/plain": [
       "                                                    Count\n",
       "ROBLOX                                                  9\n",
       "CBS Sports App - Scores, News, Stats & Watch Live       8\n",
       "ESPN                                                    7\n",
       "Duolingo: Learn Languages Free                          7\n",
       "Candy Crush Saga                                        7\n",
       "...                                                   ...\n",
       "Meet U - Get Friends for Snapchat, Kik & Instagram      1\n",
       "U-Report                                                1\n",
       "U of I Community Credit Union                           1\n",
       "Waiting For U Launcher Theme                            1\n",
       "iHoroscope - 2018 Daily Horoscope & Astrology           1\n",
       "\n",
       "[9660 rows x 1 columns]"
      ]
     },
     "execution_count": 61,
     "metadata": {},
     "output_type": "execute_result"
    }
   ],
   "source": [
    "App"
   ]
  },
  {
   "cell_type": "code",
   "execution_count": 62,
   "id": "98bf94e6-8e47-424a-a22a-ae168fae665a",
   "metadata": {},
   "outputs": [
    {
     "data": {
      "image/png": "[encoded data removed]",
      "text/plain": [
       "<Figure size 1500x600 with 1 Axes>"
      ]
     },
     "metadata": {},
     "output_type": "display_data"
    }
   ],
   "source": [
    "plt.figure(figsize=(15,6))\n",
    "sns.barplot(x=App.index[:10], y ='Count',data = App[:10],palette='hls')\n",
    "plt.title('Top 10 App categories')\n",
    "plt.xticks(rotation=90)\n",
    "plt.show()"
   ]
  },
  {
   "cell_type": "code",
   "execution_count": null,
   "id": "29a730d8-619f-482a-ad50-c28d3fdf0070",
   "metadata": {},
   "outputs": [],
   "source": []
  },
  {
   "cell_type": "code",
   "execution_count": null,
   "id": "2634a9ef-59f6-4873-82aa-fc1bb717a41c",
   "metadata": {},
   "outputs": [],
   "source": [
    "Q15. A company wants to launch a new app on the Google Playstore and has asked you to analyze the\n",
    "Google Playstore dataset to identify the most popular app categories. How would you approach this\n",
    "task, and what features would you analyze to make recommendations to the company?"
   ]
  },
  {
   "cell_type": "markdown",
   "id": "b1fabaef-324e-4fc6-9b30-4241c4536b45",
   "metadata": {},
   "source": [
    "ANS-"
   ]
  },
  {
   "cell_type": "code",
   "execution_count": null,
   "id": "db463ec7-cd18-4069-bd4a-28aaeea3aa59",
   "metadata": {},
   "outputs": [],
   "source": [
    "To analyze the Google Playstore dataset to identify the most popular app categories, you can start by preprocessing the data to clean raw data\n",
    "into assorted data that is ready for use. After that, you can group the data by category and count the number of apps in each category. This \n",
    "will give you an idea of which categories are most popular. For instance, in one analysis, Family was found to be the category with the\n",
    "highest number of applications1. You can also use sentiment analysis to see how the sentiments comport as you go down through the popularity\n",
    "rankings. Another way is to plot some graphs against different specifications of an application. For example, you can divide the apps into\n",
    "categories and then plot the number of apps in each category to explore the most popular category among apps on the play store."
   ]
  },
  {
   "cell_type": "code",
   "execution_count": null,
   "id": "9bac9b7b-68d3-4869-af83-0cd5c33b9cb7",
   "metadata": {},
   "outputs": [],
   "source": []
  },
  {
   "cell_type": "code",
   "execution_count": null,
   "id": "e63bf9b3-2abd-4838-a5b5-769e4ae66596",
   "metadata": {},
   "outputs": [],
   "source": [
    "Q16. A mobile app development company wants to analyze the Google Playstore dataset to identify the\n",
    "most successful app developers. What features would you analyze to make recommendations to the\n",
    "company, and what data visualizations would you use to present your findings?"
   ]
  },
  {
   "cell_type": "markdown",
   "id": "f0f07f6f-d92a-4c5a-8834-88be3636192d",
   "metadata": {},
   "source": [
    "ANS-"
   ]
  },
  {
   "cell_type": "code",
   "execution_count": null,
   "id": "5ac320f4-16dc-4c2d-ab25-2c1f9bb4d1fd",
   "metadata": {},
   "outputs": [],
   "source": [
    "To identify the most successful app developers in the Google Playstore dataset, you can analyze the following features:\n",
    "\n",
    "1.Category: The category of the app can help identify which categories are most popular and which ones have the highest number of downloads.\n",
    "2.Rating: The rating of an app can help identify which apps are most popular among users.\n",
    "3.Reviews: The number of reviews an app has received can help identify how popular an app is among users.\n",
    "4.Size: The size of an app can help identify how much storage space an app takes up on a user’s device.\n",
    "5.Installs: The number of installs an app has received can help identify how popular an app is among users.\n",
    "6.Price: The price of an app can help identify which apps are most popular among users.\n",
    "\n",
    "To present your findings, you can use data visualizations such as:\n",
    "\n",
    "1.Bar charts: Bar charts can be used to show the number of downloads for each category.\n",
    "2.Scatter plots: Scatter plots can be used to show the relationship between the rating and the number of reviews for each app.\n",
    "3.Pie charts: Pie charts can be used to show the percentage of apps in each category."
   ]
  },
  {
   "cell_type": "code",
   "execution_count": null,
   "id": "a1408289-0aa0-4061-8795-4ccf2dfb570e",
   "metadata": {},
   "outputs": [],
   "source": []
  },
  {
   "cell_type": "code",
   "execution_count": null,
   "id": "608cbd9b-81f5-4e4e-957b-359322bebd48",
   "metadata": {},
   "outputs": [],
   "source": [
    "Q17. A marketing research firm wants to analyze the Google Playstore dataset to identify the best time to\n",
    "launch a new app. What features would you analyze to make recommendations to the company, and\n",
    "what data visualizations would you use to present your findings?"
   ]
  },
  {
   "cell_type": "markdown",
   "id": "e4eaad26-8511-4a76-82a9-49ce19ccff5a",
   "metadata": {},
   "source": [
    "ANS-"
   ]
  },
  {
   "cell_type": "code",
   "execution_count": null,
   "id": "5fb51628-7336-46e0-babf-28a66fb2bdc4",
   "metadata": {},
   "outputs": [],
   "source": [
    "To make recommendations to the company, you can analyze the following features of the Google Playstore dataset:\n",
    "\n",
    "1.Category: The category of the app can help identify the most popular app categories and the ones that have the most competition.\n",
    "2.Rating: The rating of an app can help identify how well it is received by users.\n",
    "3.Reviews: The number of reviews can help identify how popular an app is.\n",
    "4.Price: The price of an app can help identify how much users are willing to pay for an app.\n",
    "5.Size: The size of an app can help identify how much storage space users are willing to allocate for an app.\n",
    "6.Content Rating: The content rating of an app can help identify which age groups are most interested in the app.\n",
    "\n",
    "To present your findings, you can use data visualizations such as:\n",
    "\n",
    "1.Bar charts: To compare different categories and their popularity.\n",
    "2.Scatter plots: To show the relationship between two variables such as price and rating.\n",
    "3.Heat maps: To show the distribution of apps across different categories and their ratings."
   ]
  }
 ],
 "metadata": {
  "kernelspec": {
   "display_name": "Python 3 (ipykernel)",
   "language": "python",
   "name": "python3"
  },
  "language_info": {
   "codemirror_mode": {
    "name": "ipython",
    "version": 3
   },
   "file_extension": ".py",
   "mimetype": "text/x-python",
   "name": "python",
   "nbconvert_exporter": "python",
   "pygments_lexer": "ipython3",
   "version": "3.10.8"
  }
 },
 "nbformat": 4,
 "nbformat_minor": 5
}
